{
 "cells": [
  {
   "cell_type": "code",
   "execution_count": 46,
   "metadata": {},
   "outputs": [],
   "source": [
    "# Warning control\n",
    "import warnings\n",
    "warnings.filterwarnings('ignore')\n",
    "\n",
    "# Load environment variables\n",
    "from helper import load_env\n",
    "load_env()\n",
    "\n",
    "import os\n",
    "import yaml\n",
    "from crewai import Agent, Task, Crew"
   ]
  },
  {
   "cell_type": "code",
   "execution_count": 47,
   "metadata": {},
   "outputs": [],
   "source": [
    "os.environ['OPENAI_MODEL_NAME'] = 'gpt-4o-mini'"
   ]
  },
  {
   "cell_type": "code",
   "execution_count": 48,
   "metadata": {},
   "outputs": [],
   "source": [
    "files = {\n",
    "    'agents': 'config/agents.yaml',\n",
    "    'tasks': 'config/tasks.yaml'\n",
    "}\n",
    "\n",
    "# Load configurations from YAML files\n",
    "configs = {}\n",
    "for config_type, file_path in files.items():\n",
    "    with open(file_path, 'r') as file:\n",
    "        configs[config_type] = yaml.safe_load(file)\n",
    "\n",
    "# Assign loaded configurations to specific variables\n",
    "agents_config = configs['agents']\n",
    "tasks_config = configs['tasks']"
   ]
  },
  {
   "cell_type": "code",
   "execution_count": 50,
   "metadata": {},
   "outputs": [
    {
     "name": "stdout",
     "output_type": "stream",
     "text": [
      "\u001b[1m\u001b[95m# Agent:\u001b[00m \u001b[1m\u001b[92mDocumentation Architect\u001b[00m\n",
      "\u001b[95m## Task:\u001b[00m \u001b[92mDevelop a structured outline for the platform documentation, including main sections, subsections, and a brief description of each.\u001b[00m\n",
      "\n",
      "\n",
      "\u001b[1m\u001b[95m# Agent:\u001b[00m \u001b[1m\u001b[92mDocumentation Architect\u001b[00m\n",
      "\u001b[95m## Final Answer:\u001b[00m \u001b[92m\n",
      "**1. Introduction**\n",
      "   - **1.1 Purpose of Documentation**: Clearly articulate the purpose of the platform documentation, including who the intended audience is and what they can expect to learn from it.\n",
      "   - **1.2 Scope of Documentation**: Define the boundaries of what is included in the documentation, as well as what is not covered.\n",
      "   - **1.3 Audience**: Identify the main users of the documentation, which may include developers, end-users, administrators, and technical support staff.\n",
      "\n",
      "**2. Getting Started**\n",
      "   - **2.1 System Requirements**: Provide a detailed list of all hardware and software requirements necessary to run the platform.\n",
      "   - **2.2 Installation Guide**: Step-by-step instructions on how to install the platform, including any configuration needed post-installation.\n",
      "   - **2.3 Quick Start Guide**: A brief guide to help users get up and running with the platform quickly, showcasing core functionalities.\n",
      "\n",
      "**3. Architecture Overview**\n",
      "   - **3.1 System Architecture**: High-level overview of the system architecture, including components, their interactions, and dependencies.\n",
      "   - **3.2 Data Flow Diagrams**: Visual representation of how data moves through the system, illustrating the relationships among components.\n",
      "   - **3.3 Technology Stack**: A detailed description of the tools and technologies used in the platform’s development.\n",
      "\n",
      "**4. User Guide**\n",
      "   - **4.1 User Interface Overview**: Description of the user interface components, including navigation, menus, and layout.\n",
      "   - **4.2 Key Features**: In-depth explanation of the main features of the platform, providing usage instructions and examples.\n",
      "   - **4.3 Troubleshooting Common Issues**: A compilation of common user issues and their solutions or references for further support.\n",
      "\n",
      "**5. API Reference**\n",
      "   - **5.1 Introduction to APIs**: Overview of what APIs are available within the platform and their intended use.\n",
      "   - **5.2 Authentication & Authorization**: Details on how to authenticate and authorize API requests.\n",
      "   - **5.3 Endpoints**: Comprehensive list of API endpoints with detailed descriptions, including parameters, request/response examples, and error codes.\n",
      "\n",
      "**6. Administration Guide**\n",
      "   - **6.1 User Management**: Instructions for managing user accounts, permissions, and roles within the platform.\n",
      "   - **6.2 Configuration Settings**: Details on configurable options available for the platform and how to adjust them.\n",
      "   - **6.3 Monitoring and Logging**: Guidance on how to monitor the system's performance and access logs for troubleshooting.\n",
      "\n",
      "**7. Integration Guides**\n",
      "   - **7.1 Integrations with Other Systems**: Outline of how to integrate the platform with third-party applications or services.\n",
      "   - **7.2 Webhooks**: Explanation of how to set up and use webhooks, including examples of common use cases.\n",
      "\n",
      "**8. Best Practices**\n",
      "   - **8.1 Security Best Practices**: Recommendations for maintaining the security of the platform and safeguarding user data.\n",
      "   - **8.2 Performance Optimization Tips**: Tips and techniques for optimizing the performance of the platform.\n",
      "   - **8.3 Maintenance Recommendations**: Routine maintenance tasks to ensure the platform remains operational and efficient.\n",
      "\n",
      "**9. Reference Materials**\n",
      "   - **9.1 Glossary**: Definition of key terms and concepts related to the platform.\n",
      "   - **9.2 FAQs**: Frequently asked questions with detailed answers to help users navigate common queries.\n",
      "   - **9.3 Additional Resources**: Links to forums, community resources, and further reading materials.\n",
      "\n",
      "**10. Appendices**\n",
      "   - **10.1 Change Log**: Documentation of significant changes and updates made to the platform.\n",
      "   - **10.2 Versioning Information**: Explanation of versioning strategy, including how to track and manage updates.\n",
      "   - **10.3 Support Channels**: Information on how to get support, including contact details and available support options.\n",
      "\n",
      "This structured outline is designed to provide comprehensive guidance while promoting clarity and ease of navigation for all users of the platform documentation. Each section serves a clear objective, ensuring that users can easily locate the information they need to effectively utilize the platform.\u001b[00m\n",
      "\n",
      "\n"
     ]
    }
   ],
   "source": [
    "# Create agents\n",
    "documentation_planning_agent = Agent(\n",
    "    role='Documentation Architect',\n",
    "    goal='To create a structured outline for the platform documentation, defining its sections and their objectives.',\n",
    "    backstory='You are an expert in technical writing and documentation planning. Your task is to deliver a clear and actionable documentation plan.'\n",
    ")\n",
    "\n",
    "# Create tasks\n",
    "create_documentation_outline = Task(\n",
    "    description='Develop a structured outline for the platform documentation, including main sections, subsections, and a brief description of each.',\n",
    "    agent=documentation_planning_agent,\n",
    "    expected_output='''\n",
    "    You are an expert in technical writing and documentation planning.\n",
    "    Your task is to deliver a clear and actionable documentation plan.\n",
    "    '''\n",
    ")\n",
    "\n",
    "# Create Crew\n",
    "crew = Crew(\n",
    "    agents=[documentation_planning_agent],\n",
    "    tasks=[create_documentation_outline],\n",
    "    verbose=True\n",
    ")\n",
    "\n",
    "result = crew.kickoff(\n",
    "    inputs={\n",
    "        \"input\": \"Quiero hacer un proyecto para un sistema de proveedores para el gobierno del estado de morelos, este sistema debe de ser como compranet\"\n",
    "    }\n",
    ")"
   ]
  },
  {
   "cell_type": "code",
   "execution_count": null,
   "metadata": {},
   "outputs": [],
   "source": []
  },
  {
   "cell_type": "code",
   "execution_count": null,
   "metadata": {},
   "outputs": [],
   "source": []
  },
  {
   "cell_type": "code",
   "execution_count": null,
   "metadata": {},
   "outputs": [],
   "source": []
  }
 ],
 "metadata": {
  "kernelspec": {
   "display_name": "Python 3",
   "language": "python",
   "name": "python3"
  },
  "language_info": {
   "codemirror_mode": {
    "name": "ipython",
    "version": 3
   },
   "file_extension": ".py",
   "mimetype": "text/x-python",
   "name": "python",
   "nbconvert_exporter": "python",
   "pygments_lexer": "ipython3",
   "version": "3.12.7"
  }
 },
 "nbformat": 4,
 "nbformat_minor": 2
}
